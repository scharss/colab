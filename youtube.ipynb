{
  "nbformat": 4,
  "nbformat_minor": 0,
  "metadata": {
    "colab": {
      "provenance": []
    },
    "kernelspec": {
      "name": "python3",
      "display_name": "Python 3"
    },
    "language_info": {
      "name": "python"
    }
  },
  "cells": [
    {
      "cell_type": "code",
      "source": [
        "!pip install yt-dlp"
      ],
      "metadata": {
        "colab": {
          "base_uri": "https://localhost:8080/"
        },
        "id": "O9PgGoINAnbn",
        "outputId": "b2ef6c5d-cd66-4210-bedb-f0c554ba2423"
      },
      "execution_count": 4,
      "outputs": [
        {
          "output_type": "stream",
          "name": "stdout",
          "text": [
            "Collecting yt-dlp\n",
            "  Downloading yt_dlp-2024.12.3-py3-none-any.whl.metadata (172 kB)\n",
            "\u001b[2K     \u001b[90m━━━━━━━━━━━━━━━━━━━━━━━━━━━━━━━━━━━━━━━━\u001b[0m \u001b[32m172.1/172.1 kB\u001b[0m \u001b[31m3.3 MB/s\u001b[0m eta \u001b[36m0:00:00\u001b[0m\n",
            "\u001b[?25hDownloading yt_dlp-2024.12.3-py3-none-any.whl (3.2 MB)\n",
            "\u001b[2K   \u001b[90m━━━━━━━━━━━━━━━━━━━━━━━━━━━━━━━━━━━━━━━━\u001b[0m \u001b[32m3.2/3.2 MB\u001b[0m \u001b[31m42.6 MB/s\u001b[0m eta \u001b[36m0:00:00\u001b[0m\n",
            "\u001b[?25hInstalling collected packages: yt-dlp\n",
            "Successfully installed yt-dlp-2024.12.3\n"
          ]
        }
      ]
    },
    {
      "cell_type": "code",
      "source": [
        "# Importar la librería\n",
        "import yt_dlp\n",
        "\n",
        "def descargar_video(url):\n",
        "    try:\n",
        "        ydl_opts = {\n",
        "            'format': 'best',  # Descargar la mejor calidad disponible\n",
        "            'outtmpl': '/content/%(title)s.%(ext)s',  # Ruta de descarga (en el directorio de Colab)\n",
        "        }\n",
        "        with yt_dlp.YoutubeDL(ydl_opts) as ydl:\n",
        "            ydl.download([url])\n",
        "        print(\"Video descargado correctamente.\")\n",
        "    except Exception as e:\n",
        "        print(f\"Error al descargar el video: {e}\")\n",
        "\n",
        "# URL del video\n",
        "url_video = \"https://youtube.com/shorts/AZ_a-Up0iDA?si=lGhj1xPO8xMctnd6\"\n",
        "descargar_video(url_video)"
      ],
      "metadata": {
        "colab": {
          "base_uri": "https://localhost:8080/"
        },
        "id": "9iuOrPG9AsY9",
        "outputId": "1afda527-d871-4dee-e264-5befc5c530c6"
      },
      "execution_count": 5,
      "outputs": [
        {
          "output_type": "stream",
          "name": "stdout",
          "text": [
            "[youtube] Extracting URL: https://youtube.com/shorts/AZ_a-Up0iDA?si=lGhj1xPO8xMctnd6\n",
            "[youtube] AZ_a-Up0iDA: Downloading webpage\n",
            "[youtube] AZ_a-Up0iDA: Downloading ios player API JSON\n",
            "[youtube] AZ_a-Up0iDA: Downloading mweb player API JSON\n",
            "[youtube] AZ_a-Up0iDA: Downloading player 85d2de62\n",
            "[youtube] AZ_a-Up0iDA: Downloading m3u8 information\n",
            "[info] AZ_a-Up0iDA: Downloading 1 format(s): 18\n",
            "[download] Destination: /content/🇨🇦 Pierre Poilievre - Who is ACTUALLY RUNNING THIS GOVERNMENT？ ｜ Federal Deficit ｜ Justin Trudeau.mp4\n",
            "[download] 100% of    4.07MiB in 00:00:01 at 3.99MiB/s   \n",
            "Video descargado correctamente.\n"
          ]
        }
      ]
    }
  ]
}