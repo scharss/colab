{
  "nbformat": 4,
  "nbformat_minor": 0,
  "metadata": {
    "colab": {
      "provenance": []
    },
    "kernelspec": {
      "name": "python3",
      "display_name": "Python 3"
    },
    "language_info": {
      "name": "python"
    }
  },
  "cells": [
    {
      "cell_type": "code",
      "source": [
        "!pip install yt-dlp"
      ],
      "metadata": {
        "colab": {
          "base_uri": "https://localhost:8080/"
        },
        "id": "O9PgGoINAnbn",
        "outputId": "b2ef6c5d-cd66-4210-bedb-f0c554ba2423"
      },
      "execution_count": null,
      "outputs": [
        {
          "output_type": "stream",
          "name": "stdout",
          "text": [
            "Collecting yt-dlp\n",
            "  Downloading yt_dlp-2024.12.3-py3-none-any.whl.metadata (172 kB)\n",
            "\u001b[2K     \u001b[90m━━━━━━━━━━━━━━━━━━━━━━━━━━━━━━━━━━━━━━━━\u001b[0m \u001b[32m172.1/172.1 kB\u001b[0m \u001b[31m3.3 MB/s\u001b[0m eta \u001b[36m0:00:00\u001b[0m\n",
            "\u001b[?25hDownloading yt_dlp-2024.12.3-py3-none-any.whl (3.2 MB)\n",
            "\u001b[2K   \u001b[90m━━━━━━━━━━━━━━━━━━━━━━━━━━━━━━━━━━━━━━━━\u001b[0m \u001b[32m3.2/3.2 MB\u001b[0m \u001b[31m42.6 MB/s\u001b[0m eta \u001b[36m0:00:00\u001b[0m\n",
            "\u001b[?25hInstalling collected packages: yt-dlp\n",
            "Successfully installed yt-dlp-2024.12.3\n"
          ]
        }
      ]
    },
    {
      "cell_type": "code",
      "source": [
        "# Importar la librería\n",
        "import yt_dlp\n",
        "\n",
        "def descargar_video(url):\n",
        "    try:\n",
        "        ydl_opts = {\n",
        "            'format': 'best',  # Descargar la mejor calidad disponible\n",
        "            'outtmpl': '/content/%(title)s.%(ext)s',  # Ruta de descarga (en el directorio de Colab)\n",
        "        }\n",
        "        with yt_dlp.YoutubeDL(ydl_opts) as ydl:\n",
        "            ydl.download([url])\n",
        "        print(\"Video descargado correctamente.\")\n",
        "    except Exception as e:\n",
        "        print(f\"Error al descargar el video: {e}\")\n",
        "\n",
        "# URL del video\n",
        "url_video = \"https://youtube.com/shorts/AZ_a-Up0iDA?si=lGhj1xPO8xMctnd6\"\n",
        "descargar_video(url_video)"
      ],
      "metadata": {
        "colab": {
          "base_uri": "https://localhost:8080/"
        },
        "id": "9iuOrPG9AsY9",
        "outputId": "1afda527-d871-4dee-e264-5befc5c530c6"
      },
      "execution_count": null,
      "outputs": [
        {
          "output_type": "stream",
          "name": "stdout",
          "text": [
            "[youtube] Extracting URL: https://youtube.com/shorts/AZ_a-Up0iDA?si=lGhj1xPO8xMctnd6\n",
            "[youtube] AZ_a-Up0iDA: Downloading webpage\n",
            "[youtube] AZ_a-Up0iDA: Downloading ios player API JSON\n",
            "[youtube] AZ_a-Up0iDA: Downloading mweb player API JSON\n",
            "[youtube] AZ_a-Up0iDA: Downloading player 85d2de62\n",
            "[youtube] AZ_a-Up0iDA: Downloading m3u8 information\n",
            "[info] AZ_a-Up0iDA: Downloading 1 format(s): 18\n",
            "[download] Destination: /content/🇨🇦 Pierre Poilievre - Who is ACTUALLY RUNNING THIS GOVERNMENT？ ｜ Federal Deficit ｜ Justin Trudeau.mp4\n",
            "[download] 100% of    4.07MiB in 00:00:01 at 3.99MiB/s   \n",
            "Video descargado correctamente.\n"
          ]
        }
      ]
    },
    {
      "cell_type": "code",
      "source": [
        "!pip install yt-dlp"
      ],
      "metadata": {
        "colab": {
          "base_uri": "https://localhost:8080/"
        },
        "id": "04391LLuRd6P",
        "outputId": "7a6bd536-3d39-4a70-aaea-c5122b708fda"
      },
      "execution_count": 1,
      "outputs": [
        {
          "output_type": "stream",
          "name": "stdout",
          "text": [
            "Collecting yt-dlp\n",
            "  Downloading yt_dlp-2024.12.3-py3-none-any.whl.metadata (172 kB)\n",
            "\u001b[?25l     \u001b[90m━━━━━━━━━━━━━━━━━━━━━━━━━━━━━━━━━━━━━━━━\u001b[0m \u001b[32m0.0/172.1 kB\u001b[0m \u001b[31m?\u001b[0m eta \u001b[36m-:--:--\u001b[0m\r\u001b[2K     \u001b[91m━━━━━━━━━━━━━━━━━━━━━━━━━━━━\u001b[0m\u001b[91m╸\u001b[0m\u001b[90m━━━━━━━━━━━\u001b[0m \u001b[32m122.9/172.1 kB\u001b[0m \u001b[31m4.3 MB/s\u001b[0m eta \u001b[36m0:00:01\u001b[0m\r\u001b[2K     \u001b[90m━━━━━━━━━━━━━━━━━━━━━━━━━━━━━━━━━━━━━━━━\u001b[0m \u001b[32m172.1/172.1 kB\u001b[0m \u001b[31m3.5 MB/s\u001b[0m eta \u001b[36m0:00:00\u001b[0m\n",
            "\u001b[?25hDownloading yt_dlp-2024.12.3-py3-none-any.whl (3.2 MB)\n",
            "\u001b[2K   \u001b[90m━━━━━━━━━━━━━━━━━━━━━━━━━━━━━━━━━━━━━━━━\u001b[0m \u001b[32m3.2/3.2 MB\u001b[0m \u001b[31m43.6 MB/s\u001b[0m eta \u001b[36m0:00:00\u001b[0m\n",
            "\u001b[?25hInstalling collected packages: yt-dlp\n",
            "Successfully installed yt-dlp-2024.12.3\n"
          ]
        }
      ]
    },
    {
      "cell_type": "code",
      "source": [
        "# Importar la librería\n",
        "import yt_dlp\n",
        "\n",
        "def descargar_video_facebook(url):\n",
        "    try:\n",
        "        ydl_opts = {\n",
        "            'format': 'best',  # Descargar la mejor calidad disponible\n",
        "            'outtmpl': '/content/%(title)s.%(ext)s',  # Ruta de descarga (en el directorio de Colab)\n",
        "        }\n",
        "        with yt_dlp.YoutubeDL(ydl_opts) as ydl:\n",
        "            ydl.download([url])\n",
        "        print(\"Video descargado correctamente.\")\n",
        "    except Exception as e:\n",
        "        print(f\"Error al descargar el video: {e}\")\n",
        "\n",
        "# URL del video de Facebook\n",
        "url_facebook = \"https://www.facebook.com/reel/275669168197359?mibextid=rS40aB7S9Ucbxw6v\"\n",
        "descargar_video_facebook(url_facebook)"
      ],
      "metadata": {
        "colab": {
          "base_uri": "https://localhost:8080/"
        },
        "id": "02n6L8O8Rlbo",
        "outputId": "67ab7e98-440a-4166-87a6-28e8ade2d05d"
      },
      "execution_count": 2,
      "outputs": [
        {
          "output_type": "stream",
          "name": "stdout",
          "text": [
            "[facebook:reel] Extracting URL: https://www.facebook.com/reel/275669168197359?mibextid=rS40aB7S9Ucbxw6v\n",
            "[facebook] Extracting URL: https://m.facebook.com/watch/?v=275669168197359&_rdr\n",
            "[facebook] 275669168197359: Downloading webpage\n",
            "[info] 275669168197359: Downloading 1 format(s): hd\n",
            "[download] Destination: /content/Tierra plana (por un piloto) dudas.mp4\n",
            "[download] 100% of   77.70MiB in 00:00:02 at 36.24MiB/s  \n",
            "Video descargado correctamente.\n"
          ]
        }
      ]
    },
    {
      "cell_type": "code",
      "source": [
        "!pip install yt-dlp"
      ],
      "metadata": {
        "colab": {
          "base_uri": "https://localhost:8080/"
        },
        "id": "i9SgS9iTTXIV",
        "outputId": "029f4b8a-169c-45d0-f7a6-b2c85e350b4d"
      },
      "execution_count": 3,
      "outputs": [
        {
          "output_type": "stream",
          "name": "stdout",
          "text": [
            "Requirement already satisfied: yt-dlp in /usr/local/lib/python3.10/dist-packages (2024.12.3)\n"
          ]
        }
      ]
    },
    {
      "cell_type": "code",
      "source": [
        "# Importar la librería\n",
        "import yt_dlp\n",
        "\n",
        "def descargar_video_instagram(url):\n",
        "    try:\n",
        "        ydl_opts = {\n",
        "            'format': 'best',  # Descargar la mejor calidad disponible\n",
        "            'outtmpl': '/content/%(title)s.%(ext)s',  # Ruta de descarga (en el directorio de Colab)\n",
        "        }\n",
        "        with yt_dlp.YoutubeDL(ydl_opts) as ydl:\n",
        "            ydl.download([url])\n",
        "        print(\"Video descargado correctamente.\")\n",
        "    except Exception as e:\n",
        "        print(f\"Error al descargar el video: {e}\")\n",
        "\n",
        "# URL del video de Instagram\n",
        "url_instagram = \"https://www.instagram.com/reel/DDCZ55FgxO9/?utm_source=ig_web_copy_link\"\n",
        "descargar_video_instagram(url_instagram)"
      ],
      "metadata": {
        "colab": {
          "base_uri": "https://localhost:8080/"
        },
        "id": "smTpHYYeTZDu",
        "outputId": "0f804e34-bbba-4a67-a345-db4fbcd6b068"
      },
      "execution_count": 4,
      "outputs": [
        {
          "output_type": "stream",
          "name": "stdout",
          "text": [
            "[Instagram] Extracting URL: https://www.instagram.com/reel/DDCZ55FgxO9/?utm_source=ig_web_copy_link\n",
            "[Instagram] DDCZ55FgxO9: Setting up session\n",
            "[Instagram] DDCZ55FgxO9: Downloading JSON metadata\n",
            "[info] DDCZ55FgxO9: Downloading 1 format(s): 4\n",
            "[download] Destination: /content/Video by te.mintieron.mp4\n",
            "[download] 100% of    6.20MiB in 00:00:01 at 5.76MiB/s   \n",
            "Video descargado correctamente.\n"
          ]
        }
      ]
    }
  ]
}