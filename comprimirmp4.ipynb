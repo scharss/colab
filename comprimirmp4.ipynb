{
  "nbformat": 4,
  "nbformat_minor": 0,
  "metadata": {
    "colab": {
      "provenance": []
    },
    "kernelspec": {
      "name": "python3",
      "display_name": "Python 3"
    },
    "language_info": {
      "name": "python"
    }
  },
  "cells": [
    {
      "cell_type": "markdown",
      "source": [],
      "metadata": {
        "id": "3QHhOSQOpMy_"
      }
    },
    {
      "cell_type": "code",
      "source": [
        "pip install moviepy\n"
      ],
      "metadata": {
        "id": "bDViW41lpVM3"
      },
      "execution_count": null,
      "outputs": []
    },
    {
      "cell_type": "code",
      "source": [
        "from moviepy.editor import VideoFileClip\n",
        "\n",
        "def compress_video(input_path, output_path, target_size_MB):\n",
        "    # Carga el video original\n",
        "    clip = VideoFileClip(input_path)\n",
        "\n",
        "    # Calcula el bitrate necesario para el tamaño objetivo en kilobits por segundo (kbps)\n",
        "    target_size_kB = target_size_MB * 1024\n",
        "    bitrate_kbps = (target_size_kB * 8) / clip.duration\n",
        "\n",
        "    # Escribe el video comprimido en el archivo de salida\n",
        "    clip.write_videofile(output_path, bitrate=str(int(bitrate_kbps)) + 'k')\n",
        "\n",
        "# Uso del ejemplo: Comprime el video a 50MB\n",
        "compress_video('video_original.mp4', 'video_comprimido.mp4', 50)\n"
      ],
      "metadata": {
        "colab": {
          "base_uri": "https://localhost:8080/"
        },
        "id": "cQOaVFrAfpTC",
        "outputId": "89ed7b4b-fd78-4d51-d550-459c6c344310"
      },
      "execution_count": 21,
      "outputs": [
        {
          "output_type": "stream",
          "name": "stdout",
          "text": [
            "Moviepy - Building video video_comprimido.mp4.\n",
            "MoviePy - Writing audio in video_comprimidoTEMP_MPY_wvf_snd.mp3\n"
          ]
        },
        {
          "output_type": "stream",
          "name": "stderr",
          "text": []
        },
        {
          "output_type": "stream",
          "name": "stdout",
          "text": [
            "MoviePy - Done.\n",
            "Moviepy - Writing video video_comprimido.mp4\n",
            "\n"
          ]
        },
        {
          "output_type": "stream",
          "name": "stderr",
          "text": [
            "t: 100%|██████████| 2055/2055 [07:09<00:00,  9.75it/s, now=None]WARNING:py.warnings:/usr/local/lib/python3.10/dist-packages/moviepy/video/io/ffmpeg_reader.py:123: UserWarning: Warning: in file video.mp4, 6220800 bytes wanted but 0 bytes read,at frame 2054/2055, at time 68.47/68.48 sec. Using the last valid frame instead.\n",
            "  warnings.warn(\"Warning: in file %s, \"%(self.filename)+\n",
            "\n"
          ]
        },
        {
          "output_type": "stream",
          "name": "stdout",
          "text": [
            "Moviepy - Done !\n",
            "Moviepy - video ready video_comprimido.mp4\n"
          ]
        }
      ]
    }
  ]
}