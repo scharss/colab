{
  "nbformat": 4,
  "nbformat_minor": 0,
  "metadata": {
    "colab": {
      "provenance": []
    },
    "kernelspec": {
      "name": "python3",
      "display_name": "Python 3"
    },
    "language_info": {
      "name": "python"
    }
  },
  "cells": [
    {
      "cell_type": "code",
      "execution_count": 1,
      "metadata": {
        "colab": {
          "base_uri": "https://localhost:8080/"
        },
        "id": "cSZ6yQMT8Zf_",
        "outputId": "459e199f-ea3d-4b86-ec6a-2ddbec8b05a5"
      },
      "outputs": [
        {
          "output_type": "stream",
          "name": "stdout",
          "text": [
            "Collecting qrcode[pil]\n",
            "  Downloading qrcode-8.0-py3-none-any.whl.metadata (17 kB)\n",
            "Requirement already satisfied: pillow>=9.1.0 in /usr/local/lib/python3.11/dist-packages (from qrcode[pil]) (11.1.0)\n",
            "Downloading qrcode-8.0-py3-none-any.whl (45 kB)\n",
            "\u001b[?25l   \u001b[90m━━━━━━━━━━━━━━━━━━━━━━━━━━━━━━━━━━━━━━━━\u001b[0m \u001b[32m0.0/45.7 kB\u001b[0m \u001b[31m?\u001b[0m eta \u001b[36m-:--:--\u001b[0m\r\u001b[2K   \u001b[90m━━━━━━━━━━━━━━━━━━━━━━━━━━━━━━━━━━━━━━━━\u001b[0m \u001b[32m45.7/45.7 kB\u001b[0m \u001b[31m1.7 MB/s\u001b[0m eta \u001b[36m0:00:00\u001b[0m\n",
            "\u001b[?25hInstalling collected packages: qrcode\n",
            "Successfully installed qrcode-8.0\n"
          ]
        }
      ],
      "source": [
        "!pip install qrcode[pil]\n"
      ]
    },
    {
      "cell_type": "code",
      "source": [
        "import qrcode\n",
        "\n",
        "# URL que deseas convertir en código QR\n",
        "url = \"https://mercaplace.cam/\"\n",
        "\n",
        "# Crear un objeto QRCode\n",
        "qr = qrcode.QRCode(\n",
        "    version=1,  # Controla el tamaño del QR (1 es el más pequeño, aumenta según la cantidad de datos)\n",
        "    error_correction=qrcode.constants.ERROR_CORRECT_L,  # Nivel de corrección de errores\n",
        "    box_size=10,  # Tamaño de cada caja en el código QR\n",
        "    border=4  # Borde en el QR\n",
        ")\n",
        "\n",
        "# Agregar datos al QR\n",
        "qr.add_data(url)\n",
        "qr.make(fit=True)\n",
        "\n",
        "# Crear imagen del QR\n",
        "img = qr.make_image(fill='black', back_color='white')\n",
        "\n",
        "# Guardar la imagen\n",
        "img.save(\"codigo_qr.png\")\n",
        "\n",
        "# Mostrar la imagen generada\n",
        "img.show()\n"
      ],
      "metadata": {
        "id": "msO8NXWK8e7c"
      },
      "execution_count": 2,
      "outputs": []
    }
  ]
}