{
  "nbformat": 4,
  "nbformat_minor": 0,
  "metadata": {
    "colab": {
      "provenance": []
    },
    "kernelspec": {
      "name": "python3",
      "display_name": "Python 3"
    },
    "language_info": {
      "name": "python"
    }
  },
  "cells": [
    {
      "cell_type": "code",
      "source": [
        "pip install python-pptx\n"
      ],
      "metadata": {
        "colab": {
          "base_uri": "https://localhost:8080/"
        },
        "id": "syIZT_hfXbcP",
        "outputId": "4e157d02-f11b-4101-eef0-a8ec5f5e386d"
      },
      "execution_count": null,
      "outputs": [
        {
          "output_type": "stream",
          "name": "stdout",
          "text": [
            "Collecting python-pptx\n",
            "  Downloading python_pptx-1.0.2-py3-none-any.whl.metadata (2.5 kB)\n",
            "Requirement already satisfied: Pillow>=3.3.2 in /usr/local/lib/python3.11/dist-packages (from python-pptx) (11.1.0)\n",
            "Collecting XlsxWriter>=0.5.7 (from python-pptx)\n",
            "  Downloading XlsxWriter-3.2.2-py3-none-any.whl.metadata (2.8 kB)\n",
            "Requirement already satisfied: lxml>=3.1.0 in /usr/local/lib/python3.11/dist-packages (from python-pptx) (5.3.1)\n",
            "Requirement already satisfied: typing-extensions>=4.9.0 in /usr/local/lib/python3.11/dist-packages (from python-pptx) (4.12.2)\n",
            "Downloading python_pptx-1.0.2-py3-none-any.whl (472 kB)\n",
            "\u001b[?25l   \u001b[90m━━━━━━━━━━━━━━━━━━━━━━━━━━━━━━━━━━━━━━━━\u001b[0m \u001b[32m0.0/472.8 kB\u001b[0m \u001b[31m?\u001b[0m eta \u001b[36m-:--:--\u001b[0m\r\u001b[2K   \u001b[90m━━━━━━━━━━━━━━━━━━━━━━━━━━━━━━━━━━━━━━━━\u001b[0m \u001b[32m472.8/472.8 kB\u001b[0m \u001b[31m23.4 MB/s\u001b[0m eta \u001b[36m0:00:00\u001b[0m\n",
            "\u001b[?25hDownloading XlsxWriter-3.2.2-py3-none-any.whl (165 kB)\n",
            "\u001b[?25l   \u001b[90m━━━━━━━━━━━━━━━━━━━━━━━━━━━━━━━━━━━━━━━━\u001b[0m \u001b[32m0.0/165.1 kB\u001b[0m \u001b[31m?\u001b[0m eta \u001b[36m-:--:--\u001b[0m\r\u001b[2K   \u001b[90m━━━━━━━━━━━━━━━━━━━━━━━━━━━━━━━━━━━━━━━━\u001b[0m \u001b[32m165.1/165.1 kB\u001b[0m \u001b[31m15.1 MB/s\u001b[0m eta \u001b[36m0:00:00\u001b[0m\n",
            "\u001b[?25hInstalling collected packages: XlsxWriter, python-pptx\n",
            "Successfully installed XlsxWriter-3.2.2 python-pptx-1.0.2\n"
          ]
        }
      ]
    },
    {
      "cell_type": "code",
      "source": [
        "from pptx import Presentation\n",
        "from pptx.util import Inches, Pt\n",
        "\n",
        "def texto_a_powerpoint(titulo, contenido, nombre_archivo=\"presentacion.pptx\"):\n",
        "    # Crear una presentación\n",
        "    prs = Presentation()\n",
        "\n",
        "    # Añadir una diapositiva con título y contenido\n",
        "    slide_layout = prs.slide_layouts[1]  # título y contenido\n",
        "    slide = prs.slides.add_slide(slide_layout)\n",
        "\n",
        "    # Definir título y contenido\n",
        "    title_placeholder = slide.shapes.title\n",
        "    content_placeholder = slide.placeholders[1]\n",
        "\n",
        "    title_placeholder.text = titulo\n",
        "    content_placeholder.text = contenido\n",
        "\n",
        "    # Cambiar tamaño de letra (opcional)\n",
        "    for paragraph in content_placeholder.text_frame.paragraphs:\n",
        "        for run in paragraph.runs:\n",
        "            run.font.size = Pt(18)\n",
        "\n",
        "    # Guardar presentación\n",
        "    prs.save(nombre_archivo)\n",
        "    print(f\"Presentación guardada como '{nombre_archivo}'\")\n",
        "\n",
        "# Ejemplo de uso\n",
        "titulo = \"Ejemplo de presentación\"\n",
        "contenido = \"\"\"\n",
        "Esto es un ejemplo de cómo insertar texto en una diapositiva de PowerPoint mediante Python.\n",
        "\n",
        "- Puedes incluir listas.\n",
        "- Información estructurada.\n",
        "- Texto largo o breve según necesidad.\n",
        "\"\"\"\n",
        "\n",
        "texto_a_powerpoint(titulo, contenido)\n"
      ],
      "metadata": {
        "colab": {
          "base_uri": "https://localhost:8080/"
        },
        "id": "SvMYJ6H_Xd0t",
        "outputId": "dfdcc50d-2353-4151-bbce-1ff357bd7752"
      },
      "execution_count": null,
      "outputs": [
        {
          "output_type": "stream",
          "name": "stdout",
          "text": [
            "Presentación guardada como 'presentacion.pptx'\n"
          ]
        }
      ]
    },
    {
      "cell_type": "code",
      "source": [
        "from pptx import Presentation\n",
        "from pptx.util import Pt, Inches\n",
        "import os\n",
        "\n",
        "def crear_presentacion_elegante(slides_info, nombre_archivo=\"presentacion_elegante.pptx\"):\n",
        "    prs = Presentation()\n",
        "\n",
        "    for titulo, contenido, imagen_path in slides_info:\n",
        "        # Usa un diseño elegante (Título y contenido)\n",
        "        slide_layout = prs.slide_layouts[1]\n",
        "        slide = prs.slides.add_slide(slide_layout)\n",
        "\n",
        "        # Establece título y contenido\n",
        "        title_placeholder = slide.shapes.title\n",
        "        content_placeholder = slide.placeholders[1]\n",
        "\n",
        "        title_placeholder.text = titulo\n",
        "        content_placeholder.text = contenido\n",
        "\n",
        "        # Estiliza texto\n",
        "        for paragraph in content_placeholder.text_frame.paragraphs:\n",
        "            for run in paragraph.runs:\n",
        "                run.font.size = Pt(16)\n",
        "\n",
        "        # Añade imagen relacionada si existe\n",
        "        if os.path.isfile(imagen_path):\n",
        "            slide.shapes.add_picture(imagen_path, Inches(6), Inches(1.5), height=Inches(3.5))\n",
        "\n",
        "    prs.save(nombre_archivo)\n",
        "    print(f\"Presentación guardada como '{nombre_archivo}'\")\n",
        "\n",
        "\n",
        "# Ejemplo de uso\n",
        "slides_info = [\n",
        "    (\"Introducción a Python\",\n",
        "     \"Python es un lenguaje versátil, fácil de aprender y ampliamente utilizado en desarrollo, ciencia de datos e IA.\",\n",
        "     \"python.png\"),\n",
        "\n",
        "    (\"Automatización\",\n",
        "     \"Puedes automatizar tareas repetitivas y ahorrar tiempo valioso usando scripts Python.\",\n",
        "     \"automation.png\"),\n",
        "\n",
        "    (\"Machine Learning\",\n",
        "     \"Con Python puedes crear modelos de Machine Learning poderosos de manera sencilla.\",\n",
        "     \"machine_learning.png\")\n",
        "]\n",
        "\n",
        "crear_presentacion_elegante(slides_info)\n"
      ],
      "metadata": {
        "id": "7ZurHBLoYf6N",
        "outputId": "48cd9437-8e25-44d7-8abc-02f153acb411",
        "colab": {
          "base_uri": "https://localhost:8080/"
        }
      },
      "execution_count": null,
      "outputs": [
        {
          "output_type": "stream",
          "name": "stdout",
          "text": [
            "Presentación guardada como 'presentacion_elegante.pptx'\n"
          ]
        }
      ]
    }
  ]
}