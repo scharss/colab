{
  "nbformat": 4,
  "nbformat_minor": 0,
  "metadata": {
    "colab": {
      "provenance": []
    },
    "kernelspec": {
      "name": "python3",
      "display_name": "Python 3"
    },
    "language_info": {
      "name": "python"
    }
  },
  "cells": [
    {
      "cell_type": "code",
      "execution_count": null,
      "metadata": {
        "colab": {
          "base_uri": "https://localhost:8080/"
        },
        "id": "XjjE6ruxkLc2",
        "outputId": "f46d5a53-d504-4cf7-e0ee-c521437594e8"
      },
      "outputs": [
        {
          "output_type": "stream",
          "name": "stdout",
          "text": [
            "Reading package lists... Done\n",
            "Building dependency tree... Done\n",
            "Reading state information... Done\n",
            "graphviz is already the newest version (2.42.2-6ubuntu0.1).\n",
            "0 upgraded, 0 newly installed, 0 to remove and 49 not upgraded.\n",
            "Requirement already satisfied: graphviz in /usr/local/lib/python3.10/dist-packages (0.20.3)\n"
          ]
        }
      ],
      "source": [
        "!apt-get install graphviz\n",
        "!pip install graphviz\n"
      ]
    },
    {
      "cell_type": "code",
      "source": [
        "\n",
        "from graphviz import Digraph\n",
        "\n",
        "# Crear un nuevo grafo\n",
        "diagrama = Digraph('Diagrama de Casos de Uso', filename='casos_de_uso_biblioteca', format='png')\n",
        "diagrama.attr(rankdir='LR', size='10,5')\n",
        "\n",
        "# Definir estilo general\n",
        "diagrama.attr('node', shape='ellipse')\n",
        "\n",
        "# Crear el sistema principal\n",
        "diagrama.node('Sistema', 'Sistema de Gestión de Biblioteca')\n",
        "\n",
        "# Casos de uso (nodos)\n",
        "casos = ['Registrar libros', 'Registrar usuarios', 'Prestar libros', 'Devolver libros', 'Consultar disponibilidad de libros']\n",
        "for caso in casos:\n",
        "    diagrama.node(caso)\n",
        "\n",
        "# Actores (nodos con forma de stickman)\n",
        "diagrama.attr('node', shape='plaintext')\n",
        "diagrama.node('Bibliotecario', '<<table border=\"0\"><tr><td>&#128100;</td></tr><tr><td>Bibliotecario</td></tr></table>>')\n",
        "diagrama.node('Usuario', '<<table border=\"0\"><tr><td>&#128100;</td></tr><tr><td>Usuario</td></tr></table>>')\n",
        "\n",
        "# Relacionar actores con los casos de uso\n",
        "diagrama.edge('Bibliotecario', 'Registrar libros')\n",
        "diagrama.edge('Bibliotecario', 'Registrar usuarios')\n",
        "diagrama.edge('Bibliotecario', 'Consultar disponibilidad de libros')\n",
        "diagrama.edge('Usuario', 'Prestar libros')\n",
        "diagrama.edge('Usuario', 'Devolver libros')\n",
        "diagrama.edge('Usuario', 'Consultar disponibilidad de libros')\n",
        "\n",
        "# Relacionar casos de uso con el sistema\n",
        "for caso in casos:\n",
        "    diagrama.edge(caso, 'Sistema')\n",
        "\n",
        "# Generar y mostrar el diagrama\n",
        "diagrama.render('diagrama_casos_de_uso', view=True)\n"
      ],
      "metadata": {
        "colab": {
          "base_uri": "https://localhost:8080/",
          "height": 35
        },
        "id": "5NJ7OJsBkOXZ",
        "outputId": "94264cd1-fb86-4f7e-c736-a99801256b25"
      },
      "execution_count": null,
      "outputs": [
        {
          "output_type": "execute_result",
          "data": {
            "text/plain": [
              "'diagrama_casos_de_uso.png'"
            ],
            "application/vnd.google.colaboratory.intrinsic+json": {
              "type": "string"
            }
          },
          "metadata": {},
          "execution_count": 2
        }
      ]
    },
    {
      "cell_type": "code",
      "source": [
        "from graphviz import Digraph\n",
        "\n",
        "# Crear un nuevo grafo\n",
        "diagrama = Digraph('Diagrama de Clases', filename='diagrama_clases_biblioteca', format='png')\n",
        "diagrama.attr(rankdir='TB', size='10,8')\n",
        "\n",
        "# Estilo general para las clases\n",
        "diagrama.attr('node', shape='record', fontsize='10')\n",
        "\n",
        "# Definir las clases principales\n",
        "diagrama.node('Libro', '''{\n",
        "    Libro|\n",
        "    - título : string\\\\l\n",
        "    - autor : string\\\\l\n",
        "    - ISBN : string\\\\l\n",
        "    - disponibilidad : bool\\\\l|\n",
        "    + prestar() : void\\\\l\n",
        "    + devolver() : void\\\\l\n",
        "}''')\n",
        "\n",
        "diagrama.node('Usuario', '''{\n",
        "    Usuario|\n",
        "    - nombre : string\\\\l\n",
        "    - identificación : string\\\\l\n",
        "    - lista_libros_prestados : list\\\\l|\n",
        "    + tomarLibro() : void\\\\l\n",
        "    + devolverLibro() : void\\\\l\n",
        "}''')\n",
        "\n",
        "diagrama.node('Biblioteca', '''{\n",
        "    Biblioteca|\n",
        "    - lista_libros : list\\\\l\n",
        "    - lista_usuarios : list\\\\l|\n",
        "    + registrarLibro() : void\\\\l\n",
        "    + registrarUsuario() : void\\\\l\n",
        "    + consultarDisponibilidad() : void\\\\l\n",
        "}''')\n",
        "\n",
        "# Relación entre las clases\n",
        "diagrama.edge('Biblioteca', 'Libro', label='- contiene >')\n",
        "diagrama.edge('Biblioteca', 'Usuario', label='- administra >')\n",
        "diagrama.edge('Usuario', 'Libro', label='- presta >')\n",
        "\n",
        "# Generar y renderizar el diagrama\n",
        "diagrama.render(view=True)\n"
      ],
      "metadata": {
        "colab": {
          "base_uri": "https://localhost:8080/",
          "height": 35
        },
        "id": "oY0So11htRaZ",
        "outputId": "9774b2cf-6421-4fb7-e302-fbd13f3ab5e5"
      },
      "execution_count": null,
      "outputs": [
        {
          "output_type": "execute_result",
          "data": {
            "text/plain": [
              "'diagrama_clases_biblioteca.png'"
            ],
            "application/vnd.google.colaboratory.intrinsic+json": {
              "type": "string"
            }
          },
          "metadata": {},
          "execution_count": 3
        }
      ]
    },
    {
      "cell_type": "code",
      "source": [
        "from graphviz import Digraph\n",
        "\n",
        "# Crear el diagrama\n",
        "diagrama = Digraph(\"Diagrama de Actividades\", filename=\"diagrama_actividades_libro\", format=\"png\")\n",
        "diagrama.attr(rankdir=\"LR\", size=\"10,5\")\n",
        "\n",
        "# Definir los nodos (actividades y decisiones)\n",
        "diagrama.attr(\"node\", shape=\"ellipse\")\n",
        "diagrama.node(\"Inicio\", \"Inicio\")\n",
        "diagrama.node(\"Solicitar\", \"Usuario solicita un libro\")\n",
        "diagrama.node(\"Verificar\", \"Verificar disponibilidad del libro\")\n",
        "diagrama.attr(\"node\", shape=\"diamond\")\n",
        "diagrama.node(\"Decision\", \"¿Libro disponible?\")\n",
        "diagrama.attr(\"node\", shape=\"ellipse\")\n",
        "diagrama.node(\"Disponible\", \"Actualizar estado y registrar préstamo\")\n",
        "diagrama.node(\"NoDisponible\", \"Informar al usuario\")\n",
        "diagrama.node(\"Fin\", \"Fin\")\n",
        "\n",
        "# Definir las conexiones (flujos)\n",
        "diagrama.edge(\"Inicio\", \"Solicitar\")\n",
        "diagrama.edge(\"Solicitar\", \"Verificar\")\n",
        "diagrama.edge(\"Verificar\", \"Decision\")\n",
        "diagrama.edge(\"Decision\", \"Disponible\", label=\"Sí\")\n",
        "diagrama.edge(\"Decision\", \"NoDisponible\", label=\"No\")\n",
        "diagrama.edge(\"Disponible\", \"Fin\")\n",
        "diagrama.edge(\"NoDisponible\", \"Fin\")\n",
        "\n",
        "# Generar y mostrar el diagrama\n",
        "diagrama.render(view=True)\n"
      ],
      "metadata": {
        "colab": {
          "base_uri": "https://localhost:8080/",
          "height": 35
        },
        "id": "yHtNivuXxxKO",
        "outputId": "6ff47551-309f-40fa-d11b-f87895dbff3d"
      },
      "execution_count": null,
      "outputs": [
        {
          "output_type": "execute_result",
          "data": {
            "text/plain": [
              "'diagrama_actividades_libro.png'"
            ],
            "application/vnd.google.colaboratory.intrinsic+json": {
              "type": "string"
            }
          },
          "metadata": {},
          "execution_count": 4
        }
      ]
    },
    {
      "cell_type": "code",
      "source": [
        "from graphviz import Digraph\n",
        "\n",
        "# Crear el diagrama\n",
        "diagrama = Digraph(\"Diagrama de Actividades\", filename=\"diagrama_actividades_swimlanes\", format=\"png\")\n",
        "diagrama.attr(rankdir=\"LR\", size=\"10,5\")\n",
        "\n",
        "# Definir las columnas (swimlanes)\n",
        "with diagrama.subgraph(name=\"cluster_usuario\") as usuario:\n",
        "    usuario.attr(label=\"Usuario\", style=\"dashed\")\n",
        "    usuario.node(\"Inicio\", \"Inicio\", shape=\"ellipse\")\n",
        "    usuario.node(\"Solicitar\", \"Solicitar un libro\", shape=\"ellipse\")\n",
        "    usuario.node(\"Fin\", \"Fin\", shape=\"ellipse\")\n",
        "    usuario.node(\"Informar\", \"Informar al usuario\", shape=\"ellipse\")\n",
        "\n",
        "with diagrama.subgraph(name=\"cluster_sistema\") as sistema:\n",
        "    sistema.attr(label=\"Sistema\", style=\"dashed\")\n",
        "    sistema.node(\"Verificar\", \"Verificar disponibilidad del libro\", shape=\"ellipse\")\n",
        "    sistema.node(\"Actualizar\", \"Actualizar estado y registrar préstamo\", shape=\"ellipse\")\n",
        "    sistema.node(\"Decision\", \"¿Libro disponible?\", shape=\"diamond\")\n",
        "\n",
        "# Conexiones (flujos)\n",
        "diagrama.edge(\"Inicio\", \"Solicitar\")\n",
        "diagrama.edge(\"Solicitar\", \"Verificar\")\n",
        "diagrama.edge(\"Verificar\", \"Decision\")\n",
        "diagrama.edge(\"Decision\", \"Actualizar\", label=\"Sí\")\n",
        "diagrama.edge(\"Decision\", \"Informar\", label=\"No\")\n",
        "diagrama.edge(\"Actualizar\", \"Fin\")\n",
        "diagrama.edge(\"Informar\", \"Fin\")\n",
        "\n",
        "# Generar y mostrar el diagrama\n",
        "diagrama.render(view=True)\n"
      ],
      "metadata": {
        "colab": {
          "base_uri": "https://localhost:8080/",
          "height": 35
        },
        "id": "VgpSFJhs1WOK",
        "outputId": "38d44020-18ed-448f-cbc1-c2575e61760b"
      },
      "execution_count": null,
      "outputs": [
        {
          "output_type": "execute_result",
          "data": {
            "text/plain": [
              "'diagrama_actividades_swimlanes.png'"
            ],
            "application/vnd.google.colaboratory.intrinsic+json": {
              "type": "string"
            }
          },
          "metadata": {},
          "execution_count": 5
        }
      ]
    },
    {
      "cell_type": "code",
      "source": [
        "from graphviz import Digraph\n",
        "\n",
        "# Crear el diagrama\n",
        "diagrama = Digraph(\"Diagrama de Actividades\", filename=\"diagrama_actividades_mejorado\", format=\"png\")\n",
        "diagrama.attr(rankdir=\"LR\", size=\"12,6\")\n",
        "\n",
        "# Swimlanes (columnas)\n",
        "with diagrama.subgraph(name=\"cluster_usuario\") as usuario:\n",
        "    usuario.attr(label=\"Usuario\", style=\"filled\", color=\"lightblue\", fontsize=\"12\", fontname=\"Arial\")\n",
        "    usuario.node(\"Inicio\", \"Inicio\", shape=\"ellipse\")\n",
        "    usuario.node(\"Solicitar\", \"Solicitar un libro\", shape=\"ellipse\")\n",
        "    usuario.node(\"Fin\", \"Fin\", shape=\"ellipse\")\n",
        "\n",
        "with diagrama.subgraph(name=\"cluster_sistema\") as sistema:\n",
        "    sistema.attr(label=\"Sistema\", style=\"filled\", color=\"lightgreen\", fontsize=\"12\", fontname=\"Arial\")\n",
        "    sistema.node(\"Verificar\", \"Verificar disponibilidad del libro\", shape=\"ellipse\")\n",
        "    sistema.node(\"Decision\", \"¿Libro disponible?\", shape=\"diamond\")\n",
        "    sistema.node(\"Actualizar\", \"Actualizar estado y registrar préstamo\", shape=\"ellipse\")\n",
        "\n",
        "# Conexiones entre los nodos\n",
        "diagrama.edge(\"Inicio\", \"Solicitar\")\n",
        "diagrama.edge(\"Solicitar\", \"Verificar\")\n",
        "diagrama.edge(\"Verificar\", \"Decision\")\n",
        "diagrama.edge(\"Decision\", \"Actualizar\", label=\"Sí\")\n",
        "diagrama.edge(\"Decision\", \"Fin\", label=\"No\")\n",
        "diagrama.edge(\"Actualizar\", \"Fin\")\n",
        "\n",
        "# Generar y visualizar el diagrama\n",
        "diagrama.render(view=True)\n"
      ],
      "metadata": {
        "colab": {
          "base_uri": "https://localhost:8080/",
          "height": 35
        },
        "id": "GWPamip61oLw",
        "outputId": "6eaf0152-3d6e-4e86-e343-39ef05f81990"
      },
      "execution_count": null,
      "outputs": [
        {
          "output_type": "execute_result",
          "data": {
            "text/plain": [
              "'diagrama_actividades_mejorado.png'"
            ],
            "application/vnd.google.colaboratory.intrinsic+json": {
              "type": "string"
            }
          },
          "metadata": {},
          "execution_count": 6
        }
      ]
    },
    {
      "cell_type": "code",
      "source": [
        "from graphviz import Digraph\n",
        "\n",
        "# Crear el diagrama\n",
        "diagrama = Digraph(\"Diagrama de Actividades\", filename=\"diagrama_actividades_prestamo_libro\", format=\"png\")\n",
        "diagrama.attr(rankdir=\"LR\", size=\"12,6\")\n",
        "\n",
        "# Swimlanes (columnas)\n",
        "with diagrama.subgraph(name=\"cluster_usuario\") as usuario:\n",
        "    usuario.attr(label=\"Usuario\", style=\"filled\", color=\"lightblue\", fontsize=\"12\", fontname=\"Arial\")\n",
        "    usuario.node(\"Inicio\", \"Inicio\", shape=\"ellipse\")\n",
        "    usuario.node(\"Solicitar\", \"Solicitar un libro\", shape=\"ellipse\")\n",
        "\n",
        "with diagrama.subgraph(name=\"cluster_prestamos\") as prestamos:\n",
        "    prestamos.attr(label=\"Préstamos\", style=\"filled\", color=\"lightgreen\", fontsize=\"12\", fontname=\"Arial\")\n",
        "    prestamos.node(\"Verificar\", \"Verificar disponibilidad\", shape=\"ellipse\")\n",
        "    prestamos.node(\"Decision\", \"¿Libro disponible?\", shape=\"diamond\")\n",
        "    prestamos.node(\"Actualizar\", \"Actualizar estado y registrar préstamo\", shape=\"ellipse\")\n",
        "\n",
        "with diagrama.subgraph(name=\"cluster_biblioteca\") as biblioteca:\n",
        "    biblioteca.attr(label=\"Biblioteca\", style=\"filled\", color=\"lightyellow\", fontsize=\"12\", fontname=\"Arial\")\n",
        "    biblioteca.node(\"Informar\", \"Informar al usuario\", shape=\"ellipse\")\n",
        "    biblioteca.node(\"Fin\", \"Fin\", shape=\"ellipse\")\n",
        "\n",
        "# Conexiones entre los nodos\n",
        "diagrama.edge(\"Inicio\", \"Solicitar\")\n",
        "diagrama.edge(\"Solicitar\", \"Verificar\")\n",
        "diagrama.edge(\"Verificar\", \"Decision\")\n",
        "diagrama.edge(\"Decision\", \"Actualizar\", label=\"Sí\")\n",
        "diagrama.edge(\"Decision\", \"Informar\", label=\"No\")\n",
        "diagrama.edge(\"Actualizar\", \"Fin\")\n",
        "diagrama.edge(\"Informar\", \"Fin\")\n",
        "\n",
        "# Generar y visualizar el diagrama\n",
        "diagrama.render(view=True)\n"
      ],
      "metadata": {
        "colab": {
          "base_uri": "https://localhost:8080/",
          "height": 35
        },
        "id": "6lgOLBD320TJ",
        "outputId": "31419a40-3707-4c09-df60-47c89e4c4305"
      },
      "execution_count": null,
      "outputs": [
        {
          "output_type": "execute_result",
          "data": {
            "text/plain": [
              "'diagrama_actividades_prestamo_libro.png'"
            ],
            "application/vnd.google.colaboratory.intrinsic+json": {
              "type": "string"
            }
          },
          "metadata": {},
          "execution_count": 7
        }
      ]
    },
    {
      "cell_type": "code",
      "source": [
        "from graphviz import Digraph\n",
        "\n",
        "# Crear el diagrama\n",
        "diagrama = Digraph(\"Diagrama de Actividades\", filename=\"diagrama_actividades_prestamo_libro_sin_colores\", format=\"png\")\n",
        "diagrama.attr(rankdir=\"LR\", size=\"12,6\")\n",
        "\n",
        "# Swimlanes (columnas)\n",
        "with diagrama.subgraph(name=\"cluster_usuario\") as usuario:\n",
        "    usuario.attr(label=\"Usuario\", style=\"dashed\", fontsize=\"12\", fontname=\"Arial\")\n",
        "    usuario.node(\"Inicio\", \"Inicio\", shape=\"ellipse\")\n",
        "    usuario.node(\"Solicitar\", \"Solicitar un libro\", shape=\"ellipse\")\n",
        "\n",
        "with diagrama.subgraph(name=\"cluster_prestamos\") as prestamos:\n",
        "    prestamos.attr(label=\"Préstamos\", style=\"dashed\", fontsize=\"12\", fontname=\"Arial\")\n",
        "    prestamos.node(\"Verificar\", \"Verificar disponibilidad\", shape=\"ellipse\")\n",
        "    prestamos.node(\"Decision\", \"¿Libro disponible?\", shape=\"diamond\")\n",
        "    prestamos.node(\"Actualizar\", \"Actualizar estado y registrar préstamo\", shape=\"ellipse\")\n",
        "\n",
        "with diagrama.subgraph(name=\"cluster_biblioteca\") as biblioteca:\n",
        "    biblioteca.attr(label=\"Biblioteca\", style=\"dashed\", fontsize=\"12\", fontname=\"Arial\")\n",
        "    biblioteca.node(\"Informar\", \"Informar al usuario\", shape=\"ellipse\")\n",
        "    biblioteca.node(\"Fin\", \"Fin\", shape=\"ellipse\")\n",
        "\n",
        "# Conexiones entre los nodos\n",
        "diagrama.edge(\"Inicio\", \"Solicitar\")\n",
        "diagrama.edge(\"Solicitar\", \"Verificar\")\n",
        "diagrama.edge(\"Verificar\", \"Decision\")\n",
        "diagrama.edge(\"Decision\", \"Actualizar\", label=\"Sí\")\n",
        "diagrama.edge(\"Decision\", \"Informar\", label=\"No\")\n",
        "diagrama.edge(\"Actualizar\", \"Fin\")\n",
        "diagrama.edge(\"Informar\", \"Fin\")\n",
        "\n",
        "# Generar y visualizar el diagrama\n",
        "diagrama.render(view=True)\n"
      ],
      "metadata": {
        "colab": {
          "base_uri": "https://localhost:8080/",
          "height": 35
        },
        "id": "Qeg2xzOw3DhQ",
        "outputId": "4de16d0c-d0a8-41c9-8ce8-4317a90fa072"
      },
      "execution_count": null,
      "outputs": [
        {
          "output_type": "execute_result",
          "data": {
            "text/plain": [
              "'diagrama_actividades_prestamo_libro_sin_colores.png'"
            ],
            "application/vnd.google.colaboratory.intrinsic+json": {
              "type": "string"
            }
          },
          "metadata": {},
          "execution_count": 8
        }
      ]
    },
    {
      "cell_type": "code",
      "source": [
        "from graphviz import Digraph\n",
        "\n",
        "# Crear el diagrama\n",
        "diagrama = Digraph(\"Diagrama de Estados de Máquina\", filename=\"diagrama_estados_libro\", format=\"png\")\n",
        "diagrama.attr(rankdir=\"LR\", size=\"12,6\")\n",
        "\n",
        "# Definir los nodos (estados)\n",
        "diagrama.node(\"Inicio\", \"\", shape=\"circle\", width=\"0.2\")  # Estado inicial\n",
        "diagrama.node(\"Disponible\", \"Disponible\", shape=\"rect\")\n",
        "diagrama.node(\"Prestado\", \"Prestado\", shape=\"rect\")\n",
        "diagrama.node(\"EnReparacion\", \"En reparación\", shape=\"rect\")\n",
        "diagrama.node(\"DadoDeBaja\", \"Dado de baja\", shape=\"rect\")\n",
        "diagrama.node(\"Fin\", \"\", shape=\"doublecircle\", width=\"0.2\")  # Estado final\n",
        "\n",
        "# Conexiones entre estados\n",
        "diagrama.edge(\"Inicio\", \"Disponible\", label=\"Registro\")\n",
        "diagrama.edge(\"Disponible\", \"Prestado\", label=\"Préstamo\")\n",
        "diagrama.edge(\"Prestado\", \"Disponible\", label=\"Devolución\")\n",
        "diagrama.edge(\"Disponible\", \"EnReparacion\", label=\"Revisión requerida\")\n",
        "diagrama.edge(\"EnReparacion\", \"Disponible\", label=\"Reparación completada\")\n",
        "diagrama.edge(\"Disponible\", \"DadoDeBaja\", label=\"Retiro del inventario\")\n",
        "diagrama.edge(\"Prestado\", \"DadoDeBaja\", label=\"Retiro excepcional\")\n",
        "diagrama.edge(\"EnReparacion\", \"DadoDeBaja\", label=\"No reparable\")\n",
        "diagrama.edge(\"DadoDeBaja\", \"Fin\")\n",
        "\n",
        "# Generar y visualizar el diagrama\n",
        "diagrama.render(view=True)\n"
      ],
      "metadata": {
        "colab": {
          "base_uri": "https://localhost:8080/",
          "height": 35
        },
        "id": "cdUomK6Q8mS0",
        "outputId": "0bfaf044-e457-4e72-aa08-b95184b628ff"
      },
      "execution_count": null,
      "outputs": [
        {
          "output_type": "execute_result",
          "data": {
            "text/plain": [
              "'diagrama_estados_libro.png'"
            ],
            "application/vnd.google.colaboratory.intrinsic+json": {
              "type": "string"
            }
          },
          "metadata": {},
          "execution_count": 9
        }
      ]
    },
    {
      "cell_type": "code",
      "source": [
        "pip install python-pptx pillow\n"
      ],
      "metadata": {
        "colab": {
          "base_uri": "https://localhost:8080/"
        },
        "id": "GjVoZ7UpQ5Jb",
        "outputId": "7c17828a-32a9-49b9-fb11-78e1e66b67b1"
      },
      "execution_count": null,
      "outputs": [
        {
          "output_type": "stream",
          "name": "stdout",
          "text": [
            "Collecting python-pptx\n",
            "  Downloading python_pptx-1.0.2-py3-none-any.whl.metadata (2.5 kB)\n",
            "Requirement already satisfied: pillow in /usr/local/lib/python3.10/dist-packages (11.0.0)\n",
            "Collecting XlsxWriter>=0.5.7 (from python-pptx)\n",
            "  Downloading XlsxWriter-3.2.0-py3-none-any.whl.metadata (2.6 kB)\n",
            "Requirement already satisfied: lxml>=3.1.0 in /usr/local/lib/python3.10/dist-packages (from python-pptx) (5.3.0)\n",
            "Requirement already satisfied: typing-extensions>=4.9.0 in /usr/local/lib/python3.10/dist-packages (from python-pptx) (4.12.2)\n",
            "Downloading python_pptx-1.0.2-py3-none-any.whl (472 kB)\n",
            "\u001b[2K   \u001b[90m━━━━━━━━━━━━━━━━━━━━━━━━━━━━━━━━━━━━━━━━\u001b[0m \u001b[32m472.8/472.8 kB\u001b[0m \u001b[31m5.6 MB/s\u001b[0m eta \u001b[36m0:00:00\u001b[0m\n",
            "\u001b[?25hDownloading XlsxWriter-3.2.0-py3-none-any.whl (159 kB)\n",
            "\u001b[2K   \u001b[90m━━━━━━━━━━━━━━━━━━━━━━━━━━━━━━━━━━━━━━━━\u001b[0m \u001b[32m159.9/159.9 kB\u001b[0m \u001b[31m6.0 MB/s\u001b[0m eta \u001b[36m0:00:00\u001b[0m\n",
            "\u001b[?25hInstalling collected packages: XlsxWriter, python-pptx\n",
            "Successfully installed XlsxWriter-3.2.0 python-pptx-1.0.2\n"
          ]
        }
      ]
    },
    {
      "cell_type": "code",
      "source": [
        "import os\n",
        "from pptx import Presentation\n",
        "from PIL import Image\n",
        "\n",
        "def compress_pptx(input_file, output_file, quality=85):\n",
        "    # Abrir la presentación de PowerPoint\n",
        "    presentation = Presentation(input_file)\n",
        "\n",
        "    # Crear una carpeta temporal para guardar imágenes comprimidas\n",
        "    temp_dir = \"temp_images\"\n",
        "    os.makedirs(temp_dir, exist_ok=True)\n",
        "\n",
        "    # Procesar cada diapositiva\n",
        "    for slide in presentation.slides:\n",
        "        for shape in slide.shapes:\n",
        "            if shape.shape_type == 13:  # Tipo de forma para imágenes\n",
        "                if shape.image:\n",
        "                    # Obtener los datos de la imagen original\n",
        "                    image_data = shape.image.blob\n",
        "\n",
        "                    # Guardar temporalmente la imagen\n",
        "                    temp_image_path = os.path.join(temp_dir, \"temp_image.jpg\")\n",
        "                    with open(temp_image_path, \"wb\") as temp_image_file:\n",
        "                        temp_image_file.write(image_data)\n",
        "\n",
        "                    # Comprimir la imagen usando Pillow\n",
        "                    img = Image.open(temp_image_path)\n",
        "                    img = img.convert(\"RGB\")\n",
        "                    img.save(temp_image_path, \"JPEG\", quality=quality)\n",
        "\n",
        "                    # Volver a cargar la imagen comprimida en la presentación\n",
        "                    with open(temp_image_path, \"rb\") as compressed_image_file:\n",
        "                        compressed_image = compressed_image_file.read()\n",
        "                        shape.image.replace_blob(compressed_image)\n",
        "\n",
        "    # Guardar la presentación comprimida\n",
        "    presentation.save(output_file)\n",
        "\n",
        "    # Limpiar los archivos temporales\n",
        "    for file in os.listdir(temp_dir):\n",
        "        os.remove(os.path.join(temp_dir, file))\n",
        "    os.rmdir(temp_dir)\n",
        "\n",
        "    print(f\"Presentación comprimida guardada en {output_file}\")\n",
        "\n",
        "# Ejemplo de uso\n",
        "input_pptx = \"original.pptx\"  # Cambia por el nombre de tu archivo\n",
        "output_pptx = \"archivo_comprimido.pptx\"\n",
        "compress_pptx(input_pptx, output_pptx, quality=85)\n"
      ],
      "metadata": {
        "colab": {
          "base_uri": "https://localhost:8080/"
        },
        "id": "lAIZerTQQ8F3",
        "outputId": "19f7a273-55e5-4357-8969-e9e9e5187428"
      },
      "execution_count": null,
      "outputs": [
        {
          "output_type": "stream",
          "name": "stdout",
          "text": [
            "Presentación comprimida guardada en archivo_comprimido.pptx\n"
          ]
        }
      ]
    },
    {
      "cell_type": "code",
      "source": [
        "import os\n",
        "from pptx import Presentation\n",
        "from PIL import Image\n",
        "\n",
        "def compress_pptx(input_file, output_file, quality=75, max_width=1280, max_height=720):\n",
        "    \"\"\"\n",
        "    Comprime las imágenes de un archivo .pptx reduciendo su calidad y resolución.\n",
        "    \"\"\"\n",
        "    # Abrir la presentación\n",
        "    presentation = Presentation(input_file)\n",
        "\n",
        "    # Crear una carpeta temporal para imágenes comprimidas\n",
        "    temp_dir = \"temp_images\"\n",
        "    os.makedirs(temp_dir, exist_ok=True)\n",
        "\n",
        "    for slide in presentation.slides:\n",
        "        for shape in slide.shapes:\n",
        "            if shape.shape_type == 13:  # Tipo de forma para imágenes\n",
        "                if shape.image:\n",
        "                    # Extraer datos de la imagen\n",
        "                    image_data = shape.image.blob\n",
        "\n",
        "                    # Guardar temporalmente la imagen\n",
        "                    temp_image_path = os.path.join(temp_dir, \"temp_image.png\")\n",
        "                    with open(temp_image_path, \"wb\") as temp_image_file:\n",
        "                        temp_image_file.write(image_data)\n",
        "\n",
        "                    # Comprimir la imagen\n",
        "                    img = Image.open(temp_image_path)\n",
        "                    img = img.convert(\"RGB\")\n",
        "\n",
        "                    # Redimensionar la imagen si excede las dimensiones máximas\n",
        "                    if img.width > max_width or img.height > max_height:\n",
        "                        img.thumbnail((max_width, max_height))\n",
        "\n",
        "                    # Guardar la imagen comprimida\n",
        "                    compressed_image_path = os.path.join(temp_dir, \"compressed_image.jpg\")\n",
        "                    img.save(compressed_image_path, \"JPEG\", quality=quality)\n",
        "\n",
        "                    # Reemplazar la imagen en la presentación\n",
        "                    with open(compressed_image_path, \"rb\") as compressed_image_file:\n",
        "                        compressed_image = compressed_image_file.read()\n",
        "                        shape.image.replace_blob(compressed_image)\n",
        "\n",
        "    # Guardar la presentación comprimida\n",
        "    presentation.save(output_file)\n",
        "\n",
        "    # Eliminar archivos temporales\n",
        "    for file in os.listdir(temp_dir):\n",
        "        os.remove(os.path.join(temp_dir, file))\n",
        "    os.rmdir(temp_dir)\n",
        "\n",
        "    print(f\"Presentación comprimida guardada en {output_file}\")\n",
        "\n",
        "# Ejemplo de uso\n",
        "input_pptx = \"original.pptx\"  # Cambia por tu archivo\n",
        "output_pptx = \"archivo_comprimido.pptx\"\n",
        "compress_pptx(input_pptx, output_pptx, quality=50, max_width=1024, max_height=768)\n"
      ],
      "metadata": {
        "colab": {
          "base_uri": "https://localhost:8080/"
        },
        "id": "ECF6bgZoRoqP",
        "outputId": "66ea7a79-c8ec-439e-b070-a1a4c49e541b"
      },
      "execution_count": null,
      "outputs": [
        {
          "output_type": "stream",
          "name": "stdout",
          "text": [
            "Presentación comprimida guardada en archivo_comprimido.pptx\n"
          ]
        }
      ]
    },
    {
      "cell_type": "code",
      "source": [
        "from graphviz import Digraph\n",
        "\n",
        "# Crear un nuevo grafo\n",
        "diagrama = Digraph('Diagrama de Clases', filename='diagrama_clases_supermercado', format='png')\n",
        "diagrama.attr(rankdir='TB', size='10,8')\n",
        "\n",
        "# Estilo general para las clases\n",
        "diagrama.attr('node', shape='record', fontsize='10')\n",
        "\n",
        "# Definir las clases principales\n",
        "diagrama.node('Vendedor', '''{\n",
        "    Vendedor|\n",
        "    - nombre : string\\\\l\n",
        "    - id : string\\\\l\n",
        "    - ventas_realizadas : list\\\\l|\n",
        "    + registrar_venta() : void\\\\l\n",
        "    + consultar_ventas() : void\\\\l\n",
        "}''')\n",
        "\n",
        "diagrama.node('Cliente', '''{\n",
        "    Cliente|\n",
        "    - nombre : string\\\\l\n",
        "    - id : string\\\\l\n",
        "    - direccion : string\\\\l\n",
        "    - historial_compras : list\\\\l|\n",
        "    + agregar_compra() : void\\\\l\n",
        "    + consultar_historial() : void\\\\l\n",
        "}''')\n",
        "\n",
        "diagrama.node('Producto', '''{\n",
        "    Producto|\n",
        "    - nombre : string\\\\l\n",
        "    - precio : float\\\\l\n",
        "    - cantidad : int\\\\l|\n",
        "    + actualizar_inventario() : void\\\\l\n",
        "    + consultar_inventario() : void\\\\l\n",
        "}''')\n",
        "\n",
        "diagrama.node('Factura', '''{\n",
        "    Factura|\n",
        "    - id_factura : string\\\\l\n",
        "    - cliente : Cliente\\\\l\n",
        "    - vendedor : Vendedor\\\\l\n",
        "    - productos : list\\\\l\n",
        "    - total : float\\\\l\n",
        "    - fecha : string\\\\l|\n",
        "    + generar_factura() : void\\\\l\n",
        "    + calcular_total() : float\\\\l\n",
        "}''')\n",
        "\n",
        "diagrama.node('Supermercado', '''{\n",
        "    Supermercado|\n",
        "    - lista_vendedores : list\\\\l\n",
        "    - lista_clientes : list\\\\l\n",
        "    - lista_productos : list\\\\l\n",
        "    - lista_facturas : list\\\\l|\n",
        "    + agregar_vendedor() : void\\\\l\n",
        "    + agregar_cliente() : void\\\\l\n",
        "    + agregar_producto() : void\\\\l\n",
        "    + realizar_venta() : void\\\\l\n",
        "}''')\n",
        "\n",
        "# Relación entre las clases\n",
        "diagrama.edge('Supermercado', 'Vendedor', label='- administra >')\n",
        "diagrama.edge('Supermercado', 'Cliente', label='- gestiona >')\n",
        "diagrama.edge('Supermercado', 'Producto', label='- contiene >')\n",
        "diagrama.edge('Supermercado', 'Factura', label='- genera >')\n",
        "diagrama.edge('Factura', 'Cliente', label='- relacionado con >')\n",
        "diagrama.edge('Factura', 'Vendedor', label='- relacionado con >')\n",
        "diagrama.edge('Factura', 'Producto', label='- incluye >')\n",
        "\n",
        "# Generar y renderizar el diagrama\n",
        "diagrama.render(view=True)\n"
      ],
      "metadata": {
        "id": "6bUVd8cdi2kY",
        "outputId": "32929a78-40ea-4cad-a83a-95c237880627",
        "colab": {
          "base_uri": "https://localhost:8080/",
          "height": 35
        }
      },
      "execution_count": null,
      "outputs": [
        {
          "output_type": "execute_result",
          "data": {
            "text/plain": [
              "'diagrama_clases_supermercado.png'"
            ],
            "application/vnd.google.colaboratory.intrinsic+json": {
              "type": "string"
            }
          },
          "metadata": {},
          "execution_count": 4
        }
      ]
    }
  ]
}